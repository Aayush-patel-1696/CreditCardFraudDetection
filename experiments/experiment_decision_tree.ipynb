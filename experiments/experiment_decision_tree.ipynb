{
 "cells": [
  {
   "cell_type": "code",
   "execution_count": 1,
   "metadata": {},
   "outputs": [],
   "source": [
    "import sys\n",
    "sys.path.append('..')"
   ]
  },
  {
   "cell_type": "code",
   "execution_count": 2,
   "metadata": {},
   "outputs": [],
   "source": [
    "import numpy as np\n",
    "import pandas as pd\n",
    "import seaborn as sns\n",
    "import matplotlib.pyplot as plt\n",
    "from src.utils import publish_model_scores\n",
    "from src.datasampling import dataSampling\n",
    "from src.bayesianopt import bayesianOpt\n",
    "from sklearn.tree import DecisionTreeClassifier"
   ]
  },
  {
   "cell_type": "code",
   "execution_count": 3,
   "metadata": {},
   "outputs": [],
   "source": [
    "import pandas as pd"
   ]
  },
  {
   "cell_type": "code",
   "execution_count": 4,
   "metadata": {},
   "outputs": [
    {
     "ename": "FileNotFoundError",
     "evalue": "[Errno 2] No such file or directory: 'creditcard.csv'",
     "output_type": "error",
     "traceback": [
      "\u001b[0;31m---------------------------------------------------------------------------\u001b[0m",
      "\u001b[0;31mFileNotFoundError\u001b[0m                         Traceback (most recent call last)",
      "Cell \u001b[0;32mIn[4], line 1\u001b[0m\n\u001b[0;32m----> 1\u001b[0m df \u001b[38;5;241m=\u001b[39m pd\u001b[38;5;241m.\u001b[39mread_csv(\u001b[38;5;124m\"\u001b[39m\u001b[38;5;124mcreditcard.csv\u001b[39m\u001b[38;5;124m\"\u001b[39m)\n\u001b[1;32m      2\u001b[0m \u001b[38;5;28mprint\u001b[39m(df\u001b[38;5;241m.\u001b[39mhead(n\u001b[38;5;241m=\u001b[39m\u001b[38;5;241m10\u001b[39m))\n\u001b[1;32m      4\u001b[0m \u001b[38;5;66;03m# Plot the histogrm\u001b[39;00m\n",
      "File \u001b[0;32m~/anaconda3/lib/python3.11/site-packages/pandas/io/parsers/readers.py:912\u001b[0m, in \u001b[0;36mread_csv\u001b[0;34m(filepath_or_buffer, sep, delimiter, header, names, index_col, usecols, dtype, engine, converters, true_values, false_values, skipinitialspace, skiprows, skipfooter, nrows, na_values, keep_default_na, na_filter, verbose, skip_blank_lines, parse_dates, infer_datetime_format, keep_date_col, date_parser, date_format, dayfirst, cache_dates, iterator, chunksize, compression, thousands, decimal, lineterminator, quotechar, quoting, doublequote, escapechar, comment, encoding, encoding_errors, dialect, on_bad_lines, delim_whitespace, low_memory, memory_map, float_precision, storage_options, dtype_backend)\u001b[0m\n\u001b[1;32m    899\u001b[0m kwds_defaults \u001b[38;5;241m=\u001b[39m _refine_defaults_read(\n\u001b[1;32m    900\u001b[0m     dialect,\n\u001b[1;32m    901\u001b[0m     delimiter,\n\u001b[0;32m   (...)\u001b[0m\n\u001b[1;32m    908\u001b[0m     dtype_backend\u001b[38;5;241m=\u001b[39mdtype_backend,\n\u001b[1;32m    909\u001b[0m )\n\u001b[1;32m    910\u001b[0m kwds\u001b[38;5;241m.\u001b[39mupdate(kwds_defaults)\n\u001b[0;32m--> 912\u001b[0m \u001b[38;5;28;01mreturn\u001b[39;00m _read(filepath_or_buffer, kwds)\n",
      "File \u001b[0;32m~/anaconda3/lib/python3.11/site-packages/pandas/io/parsers/readers.py:577\u001b[0m, in \u001b[0;36m_read\u001b[0;34m(filepath_or_buffer, kwds)\u001b[0m\n\u001b[1;32m    574\u001b[0m _validate_names(kwds\u001b[38;5;241m.\u001b[39mget(\u001b[38;5;124m\"\u001b[39m\u001b[38;5;124mnames\u001b[39m\u001b[38;5;124m\"\u001b[39m, \u001b[38;5;28;01mNone\u001b[39;00m))\n\u001b[1;32m    576\u001b[0m \u001b[38;5;66;03m# Create the parser.\u001b[39;00m\n\u001b[0;32m--> 577\u001b[0m parser \u001b[38;5;241m=\u001b[39m TextFileReader(filepath_or_buffer, \u001b[38;5;241m*\u001b[39m\u001b[38;5;241m*\u001b[39mkwds)\n\u001b[1;32m    579\u001b[0m \u001b[38;5;28;01mif\u001b[39;00m chunksize \u001b[38;5;129;01mor\u001b[39;00m iterator:\n\u001b[1;32m    580\u001b[0m     \u001b[38;5;28;01mreturn\u001b[39;00m parser\n",
      "File \u001b[0;32m~/anaconda3/lib/python3.11/site-packages/pandas/io/parsers/readers.py:1407\u001b[0m, in \u001b[0;36mTextFileReader.__init__\u001b[0;34m(self, f, engine, **kwds)\u001b[0m\n\u001b[1;32m   1404\u001b[0m     \u001b[38;5;28mself\u001b[39m\u001b[38;5;241m.\u001b[39moptions[\u001b[38;5;124m\"\u001b[39m\u001b[38;5;124mhas_index_names\u001b[39m\u001b[38;5;124m\"\u001b[39m] \u001b[38;5;241m=\u001b[39m kwds[\u001b[38;5;124m\"\u001b[39m\u001b[38;5;124mhas_index_names\u001b[39m\u001b[38;5;124m\"\u001b[39m]\n\u001b[1;32m   1406\u001b[0m \u001b[38;5;28mself\u001b[39m\u001b[38;5;241m.\u001b[39mhandles: IOHandles \u001b[38;5;241m|\u001b[39m \u001b[38;5;28;01mNone\u001b[39;00m \u001b[38;5;241m=\u001b[39m \u001b[38;5;28;01mNone\u001b[39;00m\n\u001b[0;32m-> 1407\u001b[0m \u001b[38;5;28mself\u001b[39m\u001b[38;5;241m.\u001b[39m_engine \u001b[38;5;241m=\u001b[39m \u001b[38;5;28mself\u001b[39m\u001b[38;5;241m.\u001b[39m_make_engine(f, \u001b[38;5;28mself\u001b[39m\u001b[38;5;241m.\u001b[39mengine)\n",
      "File \u001b[0;32m~/anaconda3/lib/python3.11/site-packages/pandas/io/parsers/readers.py:1661\u001b[0m, in \u001b[0;36mTextFileReader._make_engine\u001b[0;34m(self, f, engine)\u001b[0m\n\u001b[1;32m   1659\u001b[0m     \u001b[38;5;28;01mif\u001b[39;00m \u001b[38;5;124m\"\u001b[39m\u001b[38;5;124mb\u001b[39m\u001b[38;5;124m\"\u001b[39m \u001b[38;5;129;01mnot\u001b[39;00m \u001b[38;5;129;01min\u001b[39;00m mode:\n\u001b[1;32m   1660\u001b[0m         mode \u001b[38;5;241m+\u001b[39m\u001b[38;5;241m=\u001b[39m \u001b[38;5;124m\"\u001b[39m\u001b[38;5;124mb\u001b[39m\u001b[38;5;124m\"\u001b[39m\n\u001b[0;32m-> 1661\u001b[0m \u001b[38;5;28mself\u001b[39m\u001b[38;5;241m.\u001b[39mhandles \u001b[38;5;241m=\u001b[39m get_handle(\n\u001b[1;32m   1662\u001b[0m     f,\n\u001b[1;32m   1663\u001b[0m     mode,\n\u001b[1;32m   1664\u001b[0m     encoding\u001b[38;5;241m=\u001b[39m\u001b[38;5;28mself\u001b[39m\u001b[38;5;241m.\u001b[39moptions\u001b[38;5;241m.\u001b[39mget(\u001b[38;5;124m\"\u001b[39m\u001b[38;5;124mencoding\u001b[39m\u001b[38;5;124m\"\u001b[39m, \u001b[38;5;28;01mNone\u001b[39;00m),\n\u001b[1;32m   1665\u001b[0m     compression\u001b[38;5;241m=\u001b[39m\u001b[38;5;28mself\u001b[39m\u001b[38;5;241m.\u001b[39moptions\u001b[38;5;241m.\u001b[39mget(\u001b[38;5;124m\"\u001b[39m\u001b[38;5;124mcompression\u001b[39m\u001b[38;5;124m\"\u001b[39m, \u001b[38;5;28;01mNone\u001b[39;00m),\n\u001b[1;32m   1666\u001b[0m     memory_map\u001b[38;5;241m=\u001b[39m\u001b[38;5;28mself\u001b[39m\u001b[38;5;241m.\u001b[39moptions\u001b[38;5;241m.\u001b[39mget(\u001b[38;5;124m\"\u001b[39m\u001b[38;5;124mmemory_map\u001b[39m\u001b[38;5;124m\"\u001b[39m, \u001b[38;5;28;01mFalse\u001b[39;00m),\n\u001b[1;32m   1667\u001b[0m     is_text\u001b[38;5;241m=\u001b[39mis_text,\n\u001b[1;32m   1668\u001b[0m     errors\u001b[38;5;241m=\u001b[39m\u001b[38;5;28mself\u001b[39m\u001b[38;5;241m.\u001b[39moptions\u001b[38;5;241m.\u001b[39mget(\u001b[38;5;124m\"\u001b[39m\u001b[38;5;124mencoding_errors\u001b[39m\u001b[38;5;124m\"\u001b[39m, \u001b[38;5;124m\"\u001b[39m\u001b[38;5;124mstrict\u001b[39m\u001b[38;5;124m\"\u001b[39m),\n\u001b[1;32m   1669\u001b[0m     storage_options\u001b[38;5;241m=\u001b[39m\u001b[38;5;28mself\u001b[39m\u001b[38;5;241m.\u001b[39moptions\u001b[38;5;241m.\u001b[39mget(\u001b[38;5;124m\"\u001b[39m\u001b[38;5;124mstorage_options\u001b[39m\u001b[38;5;124m\"\u001b[39m, \u001b[38;5;28;01mNone\u001b[39;00m),\n\u001b[1;32m   1670\u001b[0m )\n\u001b[1;32m   1671\u001b[0m \u001b[38;5;28;01massert\u001b[39;00m \u001b[38;5;28mself\u001b[39m\u001b[38;5;241m.\u001b[39mhandles \u001b[38;5;129;01mis\u001b[39;00m \u001b[38;5;129;01mnot\u001b[39;00m \u001b[38;5;28;01mNone\u001b[39;00m\n\u001b[1;32m   1672\u001b[0m f \u001b[38;5;241m=\u001b[39m \u001b[38;5;28mself\u001b[39m\u001b[38;5;241m.\u001b[39mhandles\u001b[38;5;241m.\u001b[39mhandle\n",
      "File \u001b[0;32m~/anaconda3/lib/python3.11/site-packages/pandas/io/common.py:859\u001b[0m, in \u001b[0;36mget_handle\u001b[0;34m(path_or_buf, mode, encoding, compression, memory_map, is_text, errors, storage_options)\u001b[0m\n\u001b[1;32m    854\u001b[0m \u001b[38;5;28;01melif\u001b[39;00m \u001b[38;5;28misinstance\u001b[39m(handle, \u001b[38;5;28mstr\u001b[39m):\n\u001b[1;32m    855\u001b[0m     \u001b[38;5;66;03m# Check whether the filename is to be opened in binary mode.\u001b[39;00m\n\u001b[1;32m    856\u001b[0m     \u001b[38;5;66;03m# Binary mode does not support 'encoding' and 'newline'.\u001b[39;00m\n\u001b[1;32m    857\u001b[0m     \u001b[38;5;28;01mif\u001b[39;00m ioargs\u001b[38;5;241m.\u001b[39mencoding \u001b[38;5;129;01mand\u001b[39;00m \u001b[38;5;124m\"\u001b[39m\u001b[38;5;124mb\u001b[39m\u001b[38;5;124m\"\u001b[39m \u001b[38;5;129;01mnot\u001b[39;00m \u001b[38;5;129;01min\u001b[39;00m ioargs\u001b[38;5;241m.\u001b[39mmode:\n\u001b[1;32m    858\u001b[0m         \u001b[38;5;66;03m# Encoding\u001b[39;00m\n\u001b[0;32m--> 859\u001b[0m         handle \u001b[38;5;241m=\u001b[39m \u001b[38;5;28mopen\u001b[39m(\n\u001b[1;32m    860\u001b[0m             handle,\n\u001b[1;32m    861\u001b[0m             ioargs\u001b[38;5;241m.\u001b[39mmode,\n\u001b[1;32m    862\u001b[0m             encoding\u001b[38;5;241m=\u001b[39mioargs\u001b[38;5;241m.\u001b[39mencoding,\n\u001b[1;32m    863\u001b[0m             errors\u001b[38;5;241m=\u001b[39merrors,\n\u001b[1;32m    864\u001b[0m             newline\u001b[38;5;241m=\u001b[39m\u001b[38;5;124m\"\u001b[39m\u001b[38;5;124m\"\u001b[39m,\n\u001b[1;32m    865\u001b[0m         )\n\u001b[1;32m    866\u001b[0m     \u001b[38;5;28;01melse\u001b[39;00m:\n\u001b[1;32m    867\u001b[0m         \u001b[38;5;66;03m# Binary mode\u001b[39;00m\n\u001b[1;32m    868\u001b[0m         handle \u001b[38;5;241m=\u001b[39m \u001b[38;5;28mopen\u001b[39m(handle, ioargs\u001b[38;5;241m.\u001b[39mmode)\n",
      "\u001b[0;31mFileNotFoundError\u001b[0m: [Errno 2] No such file or directory: 'creditcard.csv'"
     ]
    }
   ],
   "source": [
    "df = pd.read_csv(\"creditcard.csv\")\n",
    "print(df.head(n=10))\n",
    "\n",
    "# Plot the histogrm\n",
    "df.hist(figsize = (20, 20))\n",
    "plt.show()\n",
    "\n",
    "# Comment : features are scaled so need not to do any standard transformation for preprocessing\n",
    "\n",
    "# Print the correlation of data\n",
    "correlation_matrix = df.corr()\n",
    "plt.figure(figsize=(8, 6))\n",
    "sns.heatmap(correlation_matrix, annot=False, cmap='coolwarm')\n",
    "plt.title('Correlation Matrix')\n",
    "plt.show()\n",
    "\n",
    "#Comment : There is no significant correlation amoung the data so no need for reducing highly correlated data"
   ]
  },
  {
   "cell_type": "markdown",
   "metadata": {},
   "source": [
    "# 1 Evaludate Desicion Tree Classifier without sampling techniques"
   ]
  },
  {
   "cell_type": "markdown",
   "metadata": {},
   "source": [
    "# 1.1 Get the data"
   ]
  },
  {
   "cell_type": "code",
   "execution_count": 8,
   "metadata": {},
   "outputs": [],
   "source": [
    "# Make a data source object using dataSampling class\n",
    "ds = dataSampling(df,\"Class\",0.30,42,True,True)"
   ]
  },
  {
   "cell_type": "code",
   "execution_count": 9,
   "metadata": {},
   "outputs": [
    {
     "name": "stdout",
     "output_type": "stream",
     "text": [
      "----Train class count------\n",
      "Class\n",
      "0    199020\n",
      "1       344\n",
      "Name: count, dtype: int64\n",
      "Class\n",
      "0    0.998275\n",
      "1    0.001725\n",
      "Name: count, dtype: float64\n",
      "----Test class count------\n",
      "Class\n",
      "0    85295\n",
      "1      148\n",
      "Name: count, dtype: int64\n",
      "Class\n",
      "0    0.998268\n",
      "1    0.001732\n",
      "Name: count, dtype: float64\n"
     ]
    }
   ],
   "source": [
    "# Make in-smaple and out sample dataset without sampling\n",
    "X_train,X_test,y_train,y_test = ds.get_data_wthout_sample()\n",
    "ds.print_class_percentage(X_train,X_test,y_train,y_test)"
   ]
  },
  {
   "cell_type": "markdown",
   "metadata": {},
   "source": [
    "# 1.2 Fit the Descion Tree Classifier and optimize Hyperparameters using Bayesian Optimization"
   ]
  },
  {
   "cell_type": "code",
   "execution_count": 10,
   "metadata": {},
   "outputs": [
    {
     "name": "stderr",
     "output_type": "stream",
     "text": [
      "Best score: 0.9017272087216697: 100%|██████████| 100/100 [05:23<00:00,  3.24s/it]\n"
     ]
    }
   ],
   "source": [
    "# Specified the parameters\n",
    "param_grid = { 'criterion':['gini','entropy'],\n",
    "              'max_depth': np.arange(1,15),\n",
    "              \"max_features\": ['sqrt', 'log2'],\n",
    "              \"min_samples_split\": range(2,21),\n",
    "              \"class_weight\": [{0:1, 1:1}, {0:1, 1:5}, {0:1, 1:50},'balanced'],\n",
    "              \"cv\":[2],\"scoring\":[\"f1_macro\"],\"n_jobs\":[-1]}\n",
    "\n",
    "# Config dict for Bayesian Optimizer\n",
    "conf_dict={\"num_iteration\":100}\n",
    "\n",
    "# Fit and Optimize the Baysian model\n",
    "dt_opt = bayesianOpt(DecisionTreeClassifier(random_state = 0))\n",
    "best_model = dt_opt.optimize_fit(X_train,y_train,param_grid,conf_dict)"
   ]
  },
  {
   "cell_type": "markdown",
   "metadata": {},
   "source": [
    "# 1.3 See the performance on unseen data"
   ]
  },
  {
   "cell_type": "code",
   "execution_count": 11,
   "metadata": {},
   "outputs": [
    {
     "data": {
      "text/plain": [
       "{'class_weight': {0: 1, 1: 1},\n",
       " 'criterion': 'gini',\n",
       " 'cv': 2,\n",
       " 'max_depth': 8,\n",
       " 'max_features': 'sqrt',\n",
       " 'min_samples_split': 12,\n",
       " 'n_jobs': -1,\n",
       " 'scoring': 'f1_macro'}"
      ]
     },
     "execution_count": 11,
     "metadata": {},
     "output_type": "execute_result"
    }
   ],
   "source": [
    "dt_opt.optimize_results[\"best_params\"]"
   ]
  },
  {
   "cell_type": "code",
   "execution_count": 12,
   "metadata": {},
   "outputs": [
    {
     "name": "stdout",
     "output_type": "stream",
     "text": [
      "------Training model Results------\n",
      "              precision    recall  f1-score   support\n",
      "\n",
      "           0       1.00      1.00      1.00    199020\n",
      "           1       0.94      0.79      0.86       344\n",
      "\n",
      "    accuracy                           1.00    199364\n",
      "   macro avg       0.97      0.89      0.93    199364\n",
      "weighted avg       1.00      1.00      1.00    199364\n",
      "\n",
      "ROC_AUC Score 0.9493892310694496\n",
      "------Testing model Result----------\n",
      "              precision    recall  f1-score   support\n",
      "\n",
      "           0       1.00      1.00      1.00     85295\n",
      "           1       0.86      0.73      0.79       148\n",
      "\n",
      "    accuracy                           1.00     85443\n",
      "   macro avg       0.93      0.86      0.90     85443\n",
      "weighted avg       1.00      1.00      1.00     85443\n",
      "\n",
      "ROC_AUC Score 0.9222415686100545\n"
     ]
    }
   ],
   "source": [
    "print(\"------Training model Results------\")\n",
    "publish_model_scores(X_train,y_train,best_model)\n",
    "print(\"------Testing model Result----------\")\n",
    "publish_model_scores(X_test,y_test,best_model)"
   ]
  },
  {
   "cell_type": "markdown",
   "metadata": {},
   "source": [
    "# 2 Evaluate using under sampling method"
   ]
  },
  {
   "cell_type": "markdown",
   "metadata": {},
   "source": [
    "# 2.1 Get the data"
   ]
  },
  {
   "cell_type": "code",
   "execution_count": 13,
   "metadata": {},
   "outputs": [
    {
     "name": "stdout",
     "output_type": "stream",
     "text": [
      "----Train class count------\n",
      "Class\n",
      "0    3440\n",
      "1     344\n",
      "Name: count, dtype: int64\n",
      "Class\n",
      "0    0.909091\n",
      "1    0.090909\n",
      "Name: count, dtype: float64\n",
      "----Test class count------\n",
      "Class\n",
      "0    85295\n",
      "1      148\n",
      "Name: count, dtype: int64\n",
      "Class\n",
      "0    0.998268\n",
      "1    0.001732\n",
      "Name: count, dtype: float64\n"
     ]
    }
   ],
   "source": [
    "X_nm_train,X_test,y_nm_train,y_test= ds.get_data_near_miss()\n",
    "ds.print_class_percentage(X_nm_train,X_test,y_nm_train,y_test)"
   ]
  },
  {
   "cell_type": "markdown",
   "metadata": {},
   "source": [
    "# 2.2 Fit the Descion Tree Classifier and optimize Hyperparameters using Bayesian Optimization"
   ]
  },
  {
   "cell_type": "code",
   "execution_count": 21,
   "metadata": {},
   "outputs": [
    {
     "name": "stderr",
     "output_type": "stream",
     "text": [
      "Best score: 0.9557682229535889: 100%|██████████| 100/100 [00:14<00:00,  6.93it/s]\n"
     ]
    }
   ],
   "source": [
    "# Specified the parameters\n",
    "param_grid = { 'criterion':['gini','entropy'],\n",
    "              'max_depth': np.arange(1,15),\n",
    "              \"max_features\": ['sqrt', 'log2'],\n",
    "              \"min_samples_split\": range(2,21),\n",
    "              \"class_weight\": [{0:1, 1:1}, {0:1, 1:5}, {0:1, 1:50},'balanced'],\n",
    "              \"cv\":[2],\"scoring\":[\"f1_macro\"],\"n_jobs\":[-1]}\n",
    "\n",
    "# Config dict for Bayesian Optimizer\n",
    "conf_dict={\"num_iteration\":100}\n",
    "\n",
    "# Fit and Optimize the Baysian model\n",
    "dt_nm_opt = bayesianOpt(DecisionTreeClassifier(random_state = 0))\n",
    "best_nm_model = dt_nm_opt.optimize_fit(X_nm_train,y_nm_train,param_grid,conf_dict)"
   ]
  },
  {
   "cell_type": "markdown",
   "metadata": {},
   "source": [
    "# 2.3 See the performance on unseen data"
   ]
  },
  {
   "cell_type": "code",
   "execution_count": 22,
   "metadata": {},
   "outputs": [
    {
     "name": "stdout",
     "output_type": "stream",
     "text": [
      "------Training model Results------\n",
      "              precision    recall  f1-score   support\n",
      "\n",
      "           0       1.00      1.00      1.00      3440\n",
      "           1       1.00      0.96      0.98       344\n",
      "\n",
      "    accuracy                           1.00      3784\n",
      "   macro avg       1.00      0.98      0.99      3784\n",
      "weighted avg       1.00      1.00      1.00      3784\n",
      "\n",
      "ROC_AUC Score 0.9965141630611141\n",
      "------Testing model Result----------\n",
      "              precision    recall  f1-score   support\n",
      "\n",
      "           0       1.00      0.83      0.91     85295\n",
      "           1       0.01      0.86      0.02       148\n",
      "\n",
      "    accuracy                           0.83     85443\n",
      "   macro avg       0.50      0.85      0.46     85443\n",
      "weighted avg       1.00      0.83      0.91     85443\n",
      "\n",
      "ROC_AUC Score 0.8637362698298274\n"
     ]
    }
   ],
   "source": [
    "print(\"------Training model Results------\")\n",
    "publish_model_scores(X_nm_train,y_nm_train,best_nm_model)\n",
    "print(\"------Testing model Result----------\")\n",
    "publish_model_scores(X_test,y_test,best_nm_model)"
   ]
  },
  {
   "cell_type": "markdown",
   "metadata": {},
   "source": [
    "# 3. Evaluate using under sampling method\n",
    "# 3.1 Get the data sets using near miss sampling technique"
   ]
  },
  {
   "cell_type": "code",
   "execution_count": 23,
   "metadata": {},
   "outputs": [
    {
     "name": "stdout",
     "output_type": "stream",
     "text": [
      "----Train class count------\n",
      "Class\n",
      "0    199020\n",
      "1    199020\n",
      "Name: count, dtype: int64\n",
      "Class\n",
      "0    0.5\n",
      "1    0.5\n",
      "Name: count, dtype: float64\n",
      "----Test class count------\n",
      "Class\n",
      "0    85295\n",
      "1      148\n",
      "Name: count, dtype: int64\n",
      "Class\n",
      "0    0.998268\n",
      "1    0.001732\n",
      "Name: count, dtype: float64\n"
     ]
    }
   ],
   "source": [
    "X_sm_train,X_test,y_sm_train,y_test= ds.get_data_smote()\n",
    "ds.print_class_percentage(X_sm_train,X_test,y_sm_train,y_test)"
   ]
  },
  {
   "cell_type": "markdown",
   "metadata": {},
   "source": [
    "# 3.2 Fit the data and tune the hyperparametres using Bayesian Optimization"
   ]
  },
  {
   "cell_type": "code",
   "execution_count": 24,
   "metadata": {},
   "outputs": [
    {
     "name": "stderr",
     "output_type": "stream",
     "text": [
      "Best score: 0.9966309793545538: 100%|██████████| 100/100 [14:00<00:00,  8.40s/it]\n"
     ]
    }
   ],
   "source": [
    "# Specified the parameters\n",
    "param_grid = { 'criterion':['gini','entropy'],\n",
    "              'max_depth': np.arange(1,15),\n",
    "              \"max_features\": ['sqrt', 'log2'],\n",
    "              \"min_samples_split\": range(2,21),\n",
    "              \"class_weight\": [{0:1, 1:1}, {0:1, 1:5}, {0:1, 1:50},'balanced'],\n",
    "              \"cv\":[2],\"scoring\":[\"f1_macro\"],\"n_jobs\":[-1]}\n",
    "\n",
    "# Config dict for Bayesian Optimizer\n",
    "conf_dict={\"num_iteration\":100}\n",
    "\n",
    "# Fit and Optimize the Baysian model\n",
    "dt_sm_opt = bayesianOpt(DecisionTreeClassifier(random_state = 0))\n",
    "best_sm_model = dt_sm_opt.optimize_fit(X_sm_train,y_sm_train,param_grid,conf_dict)"
   ]
  },
  {
   "cell_type": "markdown",
   "metadata": {},
   "source": [
    "# 3.3 Evaluate the Performance"
   ]
  },
  {
   "cell_type": "code",
   "execution_count": 25,
   "metadata": {},
   "outputs": [
    {
     "name": "stdout",
     "output_type": "stream",
     "text": [
      "------Training model Results------\n",
      "              precision    recall  f1-score   support\n",
      "\n",
      "           0       1.00      1.00      1.00    199020\n",
      "           1       1.00      1.00      1.00    199020\n",
      "\n",
      "    accuracy                           1.00    398040\n",
      "   macro avg       1.00      1.00      1.00    398040\n",
      "weighted avg       1.00      1.00      1.00    398040\n",
      "\n",
      "ROC_AUC Score 0.9999650037520298\n",
      "------Testing model Result----------\n",
      "              precision    recall  f1-score   support\n",
      "\n",
      "           0       1.00      0.99      1.00     85295\n",
      "           1       0.19      0.80      0.31       148\n",
      "\n",
      "    accuracy                           0.99     85443\n",
      "   macro avg       0.59      0.90      0.65     85443\n",
      "weighted avg       1.00      0.99      1.00     85443\n",
      "\n",
      "ROC_AUC Score 0.9007358800854903\n"
     ]
    }
   ],
   "source": [
    "print(\"------Training model Results------\")\n",
    "publish_model_scores(X_sm_train,y_sm_train,best_sm_model)\n",
    "print(\"------Testing model Result----------\")\n",
    "publish_model_scores(X_test,y_test,best_sm_model)"
   ]
  },
  {
   "cell_type": "markdown",
   "metadata": {},
   "source": [
    "# 4 Evaluate Performance using Random Sampling Methods\n",
    "# 4.1 Get the dataset using ramdom sampling method"
   ]
  },
  {
   "cell_type": "code",
   "execution_count": 26,
   "metadata": {},
   "outputs": [
    {
     "name": "stdout",
     "output_type": "stream",
     "text": [
      "----Train class count------\n",
      "Class\n",
      "0    199020\n",
      "1    199020\n",
      "Name: count, dtype: int64\n",
      "Class\n",
      "0    0.5\n",
      "1    0.5\n",
      "Name: count, dtype: float64\n",
      "----Test class count------\n",
      "Class\n",
      "0    85295\n",
      "1      148\n",
      "Name: count, dtype: int64\n",
      "Class\n",
      "0    0.998268\n",
      "1    0.001732\n",
      "Name: count, dtype: float64\n"
     ]
    }
   ],
   "source": [
    "X_rn_train,X_test,y_rn_train,y_test= ds.get_data_random_over_sample()\n",
    "ds.print_class_percentage(X_rn_train,X_test,y_rn_train,y_test)"
   ]
  },
  {
   "cell_type": "markdown",
   "metadata": {},
   "source": [
    "# 4.2 Fit the data and tune the hyperparametres using Bayesian Optimization"
   ]
  },
  {
   "cell_type": "code",
   "execution_count": 28,
   "metadata": {},
   "outputs": [
    {
     "name": "stderr",
     "output_type": "stream",
     "text": [
      "Best score: 0.9959526595296999: 100%|██████████| 100/100 [12:26<00:00,  7.46s/it]\n"
     ]
    }
   ],
   "source": [
    "# Specified the parameters\n",
    "param_grid = { 'criterion':['gini','entropy'],\n",
    "              'max_depth': np.arange(1,15),\n",
    "              \"max_features\": ['sqrt', 'log2'],\n",
    "              \"min_samples_split\": range(2,21),\n",
    "              \"class_weight\": [{0:1, 1:1}, {0:1, 1:5}, {0:1, 1:50},'balanced'],\n",
    "              \"cv\":[2],\"scoring\":[\"f1_macro\"],\"n_jobs\":[-1]}\n",
    "\n",
    "# Config dict for Bayesian Optimizer\n",
    "conf_dict={\"num_iteration\":100}\n",
    "\n",
    "# Fit and Optimize the Baysian model\n",
    "dt_rn_opt = bayesianOpt(DecisionTreeClassifier(random_state = 0))\n",
    "best_rn_model = dt_rn_opt.optimize_fit(X_sm_train,y_sm_train,param_grid,conf_dict)"
   ]
  },
  {
   "cell_type": "markdown",
   "metadata": {},
   "source": [
    "# 4.3 Evaluate the Performance on unseen data"
   ]
  },
  {
   "cell_type": "code",
   "execution_count": 29,
   "metadata": {},
   "outputs": [
    {
     "name": "stdout",
     "output_type": "stream",
     "text": [
      "------Training model Results------\n",
      "              precision    recall  f1-score   support\n",
      "\n",
      "           0       0.99      1.00      0.99    199020\n",
      "           1       1.00      0.99      0.99    199020\n",
      "\n",
      "    accuracy                           0.99    398040\n",
      "   macro avg       0.99      0.99      0.99    398040\n",
      "weighted avg       0.99      0.99      0.99    398040\n",
      "\n",
      "ROC_AUC Score 0.9987757750895173\n",
      "------Testing model Result----------\n",
      "              precision    recall  f1-score   support\n",
      "\n",
      "           0       1.00      0.99      1.00     85295\n",
      "           1       0.20      0.79      0.31       148\n",
      "\n",
      "    accuracy                           0.99     85443\n",
      "   macro avg       0.60      0.89      0.66     85443\n",
      "weighted avg       1.00      0.99      1.00     85443\n",
      "\n",
      "ROC_AUC Score 0.8716882821622256\n"
     ]
    }
   ],
   "source": [
    "print(\"------Training model Results------\")\n",
    "publish_model_scores(X_rn_train,y_rn_train,best_rn_model)\n",
    "print(\"------Testing model Result----------\")\n",
    "publish_model_scores(X_test,y_test,best_rn_model)"
   ]
  },
  {
   "cell_type": "code",
   "execution_count": null,
   "metadata": {},
   "outputs": [],
   "source": []
  }
 ],
 "metadata": {
  "kernelspec": {
   "display_name": ".venv",
   "language": "python",
   "name": "python3"
  },
  "language_info": {
   "codemirror_mode": {
    "name": "ipython",
    "version": 3
   },
   "file_extension": ".py",
   "mimetype": "text/x-python",
   "name": "python",
   "nbconvert_exporter": "python",
   "pygments_lexer": "ipython3",
   "version": "3.11.5"
  }
 },
 "nbformat": 4,
 "nbformat_minor": 2
}
